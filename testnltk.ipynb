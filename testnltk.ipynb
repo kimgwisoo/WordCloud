{
 "metadata": {
  "language_info": {
   "codemirror_mode": {
    "name": "ipython",
    "version": 3
   },
   "file_extension": ".py",
   "mimetype": "text/x-python",
   "name": "python",
   "nbconvert_exporter": "python",
   "pygments_lexer": "ipython3",
   "version": "3.7.6-final"
  },
  "orig_nbformat": 2,
  "kernelspec": {
   "name": "python3",
   "display_name": "Python 3",
   "language": "python"
  }
 },
 "nbformat": 4,
 "nbformat_minor": 2,
 "cells": [
  {
   "cell_type": "code",
   "execution_count": 154,
   "metadata": {},
   "outputs": [],
   "source": [
    "from bs4 import BeautifulSoup\n",
    "import requests\n",
    "import nltk\n",
    "from nltk.tokenize import  word_tokenize, TweetTokenizer\n",
    "from nltk.tag import pos_tag\n",
    "from collections import Counter\n",
    "from wordcloud import WordCloud\n",
    "import matplotlib.pyplot as plt"
   ]
  },
  {
   "cell_type": "code",
   "execution_count": 155,
   "metadata": {},
   "outputs": [],
   "source": [
    "search_word = 'samsung'\n",
    "title_list = []"
   ]
  },
  {
   "cell_type": "code",
   "execution_count": 156,
   "metadata": {},
   "outputs": [],
   "source": [
    "def get_titles(start_num, end_num):\n",
    "    # start_num ~ end_num까지 크롤링\n",
    "    while 1:\n",
    "        if start_num > end_num:\n",
    "            break\n",
    "        print(start_num)\n",
    "        url = 'https://search.naver.com/search.naver?where=news&sm=tab_jum&query={}&start={}'.format(\n",
    "            search_word, start_num)\n",
    "        req = requests.get(url)\n",
    "        # 정상적인 request 확인\n",
    "        if req.ok:\n",
    "            html = req.text\n",
    "            soup = BeautifulSoup(html, 'html.parser')\n",
    "\n",
    "            # 뉴스제목 뽑아오기\n",
    "            titles = soup.select(\"ul > li > .news_wrap.api_ani_send > div > a\")\n",
    "            #print(titles)\n",
    "\n",
    "            # list에 넣어준다\n",
    "            for title in titles:\n",
    "                title_list.append(title['title'])\n",
    "        start_num += 10\n",
    "    print(title_list)"
   ]
  },
  {
   "cell_type": "code",
   "execution_count": 159,
   "metadata": {},
   "outputs": [],
   "source": [
    "def make_wordcloud(word_count):\n",
    "    twitter = TweetTokenizer()\n",
    "    # twitter = word_tokenize()\n",
    "\n",
    "    sentences_tag = []\n",
    "    # 형태소 분석하여 리스트에 넣기\n",
    "    for sentence in title_list:\n",
    "        morph = twitter.tokenize(sentence)\n",
    "        # morph = wn(sentence)\n",
    "        sentences_tag.append(morph)\n",
    "        print(morph)\n",
    "        print('-' * 30)\n",
    "\n",
    "    print(sentences_tag)\n",
    "    print('\\n' * 3)\n",
    "\n",
    "    noun_adj_list = []\n",
    "    \n",
    "    \n",
    "    # 명사와 형용사만 구분하여 리스트에 넣기\n",
    "    tagged = nltk.pos_tag(sentences_tag)\n",
    "    noun_adj_list = [word for word, pos in tagged if pos in ['NN','JJ']]\n",
    "    \n",
    "    \n",
    "    # tagged = nltk.pos_tag(sentences_tag)\n",
    "    # for word in tagged:\n",
    "    #     if word in ['NN', 'JJ']:\n",
    "    #         noun_adj_list.append(pos)\n",
    "    \n",
    "    # 형태소별 count\n",
    "    counts = Counter(noun_adj_list)\n",
    "    tags = counts.most_common(word_count)\n",
    "    print(tags)\n",
    "\n",
    "    # wordCloud생성\n",
    "    # 한글꺠지는 문제 해결하기위해 font_path 지정\n",
    "    wc = WordCloud(font_path='/Library/Fonts/NanumGothic.ttf',\n",
    "                   background_color='white', width=800, height=600)\n",
    "    # print(dict(tags))\n",
    "    cloud = wc.generate_from_frequencies(dict(tags))\n",
    "    plt.figure(figsize=(10, 8))\n",
    "    plt.axis('off')\n",
    "    plt.imshow(cloud)\n",
    "    plt.show()\n",
    "    "
   ]
  },
  {
   "cell_type": "code",
   "execution_count": 160,
   "metadata": {
    "tags": []
   },
   "outputs": [
    {
     "output_type": "stream",
     "name": "stdout",
     "text": [
      "1\n",
      "['Samsung heir-rich stockholders', \"Samsung heir becomes Korea's richest man in stock value\", 'Samsung Introduces New HDR10+ Adaptive feature for Better At-home Viewing Experience', 'Samsung Display to Continue to Produce LCD TV Panels after March 2021', 'Retrial on Samsung leader’s bribery case wraps up, ruling likely come next month', 'Samsung heir’s retrial on bribery charges ends on Wednesday', 'prosecution-Samsung heir', '(LEAD) prosecution-Samsung heir', 'After requests, Samsung to extend LCD output', '삼성전자, 스마트 모니터 美 주요매체 연이어 최고 선정', 'Samsung heir-rich stockholders', \"Samsung heir becomes Korea's richest man in stock value\", 'Samsung Introduces New HDR10+ Adaptive feature for Better At-home Viewing Experience', 'Samsung Display to Continue to Produce LCD TV Panels after March 2021', 'Retrial on Samsung leader’s bribery case wraps up, ruling likely come next month', 'prosecution-Samsung heir', 'Samsung heir’s bribery retrial ends Wednesday, prosecutors demand 9-year prison term', '(LEAD) prosecution-Samsung heir', 'After requests, Samsung to extend LCD output', '삼성전자, 스마트 모니터 美 주요매체 연이어 최고 선정']\n",
      "['Samsung', 'heir-rich', 'stockholders']\n",
      "------------------------------\n",
      "['Samsung', 'heir', 'becomes', \"Korea's\", 'richest', 'man', 'in', 'stock', 'value']\n",
      "------------------------------\n",
      "['Samsung', 'Introduces', 'New', 'HDR', '10', '+', 'Adaptive', 'feature', 'for', 'Better', 'At-home', 'Viewing', 'Experience']\n",
      "------------------------------\n",
      "['Samsung', 'Display', 'to', 'Continue', 'to', 'Produce', 'LCD', 'TV', 'Panels', 'after', 'March', '2021']\n",
      "------------------------------\n",
      "['Retrial', 'on', 'Samsung', 'leader', '’', 's', 'bribery', 'case', 'wraps', 'up', ',', 'ruling', 'likely', 'come', 'next', 'month']\n",
      "------------------------------\n",
      "['Samsung', 'heir', '’', 's', 'retrial', 'on', 'bribery', 'charges', 'ends', 'on', 'Wednesday']\n",
      "------------------------------\n",
      "['prosecution-Samsung', 'heir']\n",
      "------------------------------\n",
      "['(', 'LEAD', ')', 'prosecution-Samsung', 'heir']\n",
      "------------------------------\n",
      "['After', 'requests', ',', 'Samsung', 'to', 'extend', 'LCD', 'output']\n",
      "------------------------------\n",
      "['삼성전자', ',', '스마트', '모니터', '美', '주요매체', '연이어', '최고', '선정']\n",
      "------------------------------\n",
      "['Samsung', 'heir-rich', 'stockholders']\n",
      "------------------------------\n",
      "['Samsung', 'heir', 'becomes', \"Korea's\", 'richest', 'man', 'in', 'stock', 'value']\n",
      "------------------------------\n",
      "['Samsung', 'Introduces', 'New', 'HDR', '10', '+', 'Adaptive', 'feature', 'for', 'Better', 'At-home', 'Viewing', 'Experience']\n",
      "------------------------------\n",
      "['Samsung', 'Display', 'to', 'Continue', 'to', 'Produce', 'LCD', 'TV', 'Panels', 'after', 'March', '2021']\n",
      "------------------------------\n",
      "['Retrial', 'on', 'Samsung', 'leader', '’', 's', 'bribery', 'case', 'wraps', 'up', ',', 'ruling', 'likely', 'come', 'next', 'month']\n",
      "------------------------------\n",
      "['prosecution-Samsung', 'heir']\n",
      "------------------------------\n",
      "['Samsung', 'heir', '’', 's', 'bribery', 'retrial', 'ends', 'Wednesday', ',', 'prosecutors', 'demand', '9', '-', 'year', 'prison', 'term']\n",
      "------------------------------\n",
      "['(', 'LEAD', ')', 'prosecution-Samsung', 'heir']\n",
      "------------------------------\n",
      "['After', 'requests', ',', 'Samsung', 'to', 'extend', 'LCD', 'output']\n",
      "------------------------------\n",
      "['삼성전자', ',', '스마트', '모니터', '美', '주요매체', '연이어', '최고', '선정']\n",
      "------------------------------\n",
      "[['Samsung', 'heir-rich', 'stockholders'], ['Samsung', 'heir', 'becomes', \"Korea's\", 'richest', 'man', 'in', 'stock', 'value'], ['Samsung', 'Introduces', 'New', 'HDR', '10', '+', 'Adaptive', 'feature', 'for', 'Better', 'At-home', 'Viewing', 'Experience'], ['Samsung', 'Display', 'to', 'Continue', 'to', 'Produce', 'LCD', 'TV', 'Panels', 'after', 'March', '2021'], ['Retrial', 'on', 'Samsung', 'leader', '’', 's', 'bribery', 'case', 'wraps', 'up', ',', 'ruling', 'likely', 'come', 'next', 'month'], ['Samsung', 'heir', '’', 's', 'retrial', 'on', 'bribery', 'charges', 'ends', 'on', 'Wednesday'], ['prosecution-Samsung', 'heir'], ['(', 'LEAD', ')', 'prosecution-Samsung', 'heir'], ['After', 'requests', ',', 'Samsung', 'to', 'extend', 'LCD', 'output'], ['삼성전자', ',', '스마트', '모니터', '美', '주요매체', '연이어', '최고', '선정'], ['Samsung', 'heir-rich', 'stockholders'], ['Samsung', 'heir', 'becomes', \"Korea's\", 'richest', 'man', 'in', 'stock', 'value'], ['Samsung', 'Introduces', 'New', 'HDR', '10', '+', 'Adaptive', 'feature', 'for', 'Better', 'At-home', 'Viewing', 'Experience'], ['Samsung', 'Display', 'to', 'Continue', 'to', 'Produce', 'LCD', 'TV', 'Panels', 'after', 'March', '2021'], ['Retrial', 'on', 'Samsung', 'leader', '’', 's', 'bribery', 'case', 'wraps', 'up', ',', 'ruling', 'likely', 'come', 'next', 'month'], ['prosecution-Samsung', 'heir'], ['Samsung', 'heir', '’', 's', 'bribery', 'retrial', 'ends', 'Wednesday', ',', 'prosecutors', 'demand', '9', '-', 'year', 'prison', 'term'], ['(', 'LEAD', ')', 'prosecution-Samsung', 'heir'], ['After', 'requests', ',', 'Samsung', 'to', 'extend', 'LCD', 'output'], ['삼성전자', ',', '스마트', '모니터', '美', '주요매체', '연이어', '최고', '선정']]\n",
      "\n",
      "\n",
      "\n",
      "\n"
     ]
    },
    {
     "output_type": "error",
     "ename": "AttributeError",
     "evalue": "'list' object has no attribute 'isdigit'",
     "traceback": [
      "\u001b[1;31m---------------------------------------------------------------------------\u001b[0m",
      "\u001b[1;31mAttributeError\u001b[0m                            Traceback (most recent call last)",
      "\u001b[1;32m<ipython-input-160-0c0c18525b1f>\u001b[0m in \u001b[0;36m<module>\u001b[1;34m\u001b[0m\n\u001b[0;32m      3\u001b[0m     \u001b[0mget_titles\u001b[0m\u001b[1;33m(\u001b[0m\u001b[1;36m1\u001b[0m\u001b[1;33m,\u001b[0m \u001b[1;36m10\u001b[0m\u001b[1;33m)\u001b[0m\u001b[1;33m\u001b[0m\u001b[1;33m\u001b[0m\u001b[0m\n\u001b[0;32m      4\u001b[0m     \u001b[1;31m# 단어 30개까지 wordcloud로 출력\u001b[0m\u001b[1;33m\u001b[0m\u001b[1;33m\u001b[0m\u001b[1;33m\u001b[0m\u001b[0m\n\u001b[1;32m----> 5\u001b[1;33m     \u001b[0mmake_wordcloud\u001b[0m\u001b[1;33m(\u001b[0m\u001b[1;36m10\u001b[0m\u001b[1;33m)\u001b[0m\u001b[1;33m\u001b[0m\u001b[1;33m\u001b[0m\u001b[0m\n\u001b[0m",
      "\u001b[1;32m<ipython-input-159-bec3dc064362>\u001b[0m in \u001b[0;36mmake_wordcloud\u001b[1;34m(word_count)\u001b[0m\n\u001b[0;32m     19\u001b[0m \u001b[1;33m\u001b[0m\u001b[0m\n\u001b[0;32m     20\u001b[0m     \u001b[1;31m# 명사와 형용사만 구분하여 리스트에 넣기\u001b[0m\u001b[1;33m\u001b[0m\u001b[1;33m\u001b[0m\u001b[1;33m\u001b[0m\u001b[0m\n\u001b[1;32m---> 21\u001b[1;33m     \u001b[0mtagged\u001b[0m \u001b[1;33m=\u001b[0m \u001b[0mnltk\u001b[0m\u001b[1;33m.\u001b[0m\u001b[0mpos_tag\u001b[0m\u001b[1;33m(\u001b[0m\u001b[0msentences_tag\u001b[0m\u001b[1;33m)\u001b[0m\u001b[1;33m\u001b[0m\u001b[1;33m\u001b[0m\u001b[0m\n\u001b[0m\u001b[0;32m     22\u001b[0m     \u001b[0mnoun_adj_list\u001b[0m \u001b[1;33m=\u001b[0m \u001b[1;33m[\u001b[0m\u001b[0mword\u001b[0m \u001b[1;32mfor\u001b[0m \u001b[0mword\u001b[0m\u001b[1;33m,\u001b[0m \u001b[0mpos\u001b[0m \u001b[1;32min\u001b[0m \u001b[0mtagged\u001b[0m \u001b[1;32mif\u001b[0m \u001b[0mpos\u001b[0m \u001b[1;32min\u001b[0m \u001b[1;33m[\u001b[0m\u001b[1;34m'NN'\u001b[0m\u001b[1;33m,\u001b[0m\u001b[1;34m'JJ'\u001b[0m\u001b[1;33m]\u001b[0m\u001b[1;33m]\u001b[0m\u001b[1;33m\u001b[0m\u001b[1;33m\u001b[0m\u001b[0m\n\u001b[0;32m     23\u001b[0m \u001b[1;33m\u001b[0m\u001b[0m\n",
      "\u001b[1;32m~\\anaconda3\\lib\\site-packages\\nltk\\tag\\__init__.py\u001b[0m in \u001b[0;36mpos_tag\u001b[1;34m(tokens, tagset, lang)\u001b[0m\n\u001b[0;32m    159\u001b[0m     \"\"\"\n\u001b[0;32m    160\u001b[0m     \u001b[0mtagger\u001b[0m \u001b[1;33m=\u001b[0m \u001b[0m_get_tagger\u001b[0m\u001b[1;33m(\u001b[0m\u001b[0mlang\u001b[0m\u001b[1;33m)\u001b[0m\u001b[1;33m\u001b[0m\u001b[1;33m\u001b[0m\u001b[0m\n\u001b[1;32m--> 161\u001b[1;33m     \u001b[1;32mreturn\u001b[0m \u001b[0m_pos_tag\u001b[0m\u001b[1;33m(\u001b[0m\u001b[0mtokens\u001b[0m\u001b[1;33m,\u001b[0m \u001b[0mtagset\u001b[0m\u001b[1;33m,\u001b[0m \u001b[0mtagger\u001b[0m\u001b[1;33m,\u001b[0m \u001b[0mlang\u001b[0m\u001b[1;33m)\u001b[0m\u001b[1;33m\u001b[0m\u001b[1;33m\u001b[0m\u001b[0m\n\u001b[0m\u001b[0;32m    162\u001b[0m \u001b[1;33m\u001b[0m\u001b[0m\n\u001b[0;32m    163\u001b[0m \u001b[1;33m\u001b[0m\u001b[0m\n",
      "\u001b[1;32m~\\anaconda3\\lib\\site-packages\\nltk\\tag\\__init__.py\u001b[0m in \u001b[0;36m_pos_tag\u001b[1;34m(tokens, tagset, tagger, lang)\u001b[0m\n\u001b[0;32m    116\u001b[0m         )\n\u001b[0;32m    117\u001b[0m     \u001b[1;32melse\u001b[0m\u001b[1;33m:\u001b[0m\u001b[1;33m\u001b[0m\u001b[1;33m\u001b[0m\u001b[0m\n\u001b[1;32m--> 118\u001b[1;33m         \u001b[0mtagged_tokens\u001b[0m \u001b[1;33m=\u001b[0m \u001b[0mtagger\u001b[0m\u001b[1;33m.\u001b[0m\u001b[0mtag\u001b[0m\u001b[1;33m(\u001b[0m\u001b[0mtokens\u001b[0m\u001b[1;33m)\u001b[0m\u001b[1;33m\u001b[0m\u001b[1;33m\u001b[0m\u001b[0m\n\u001b[0m\u001b[0;32m    119\u001b[0m         \u001b[1;32mif\u001b[0m \u001b[0mtagset\u001b[0m\u001b[1;33m:\u001b[0m  \u001b[1;31m# Maps to the specified tagset.\u001b[0m\u001b[1;33m\u001b[0m\u001b[1;33m\u001b[0m\u001b[0m\n\u001b[0;32m    120\u001b[0m             \u001b[1;32mif\u001b[0m \u001b[0mlang\u001b[0m \u001b[1;33m==\u001b[0m \u001b[1;34m\"eng\"\u001b[0m\u001b[1;33m:\u001b[0m\u001b[1;33m\u001b[0m\u001b[1;33m\u001b[0m\u001b[0m\n",
      "\u001b[1;32m~\\anaconda3\\lib\\site-packages\\nltk\\tag\\perceptron.py\u001b[0m in \u001b[0;36mtag\u001b[1;34m(self, tokens, return_conf, use_tagdict)\u001b[0m\n\u001b[0;32m    179\u001b[0m         \u001b[0moutput\u001b[0m \u001b[1;33m=\u001b[0m \u001b[1;33m[\u001b[0m\u001b[1;33m]\u001b[0m\u001b[1;33m\u001b[0m\u001b[1;33m\u001b[0m\u001b[0m\n\u001b[0;32m    180\u001b[0m \u001b[1;33m\u001b[0m\u001b[0m\n\u001b[1;32m--> 181\u001b[1;33m         \u001b[0mcontext\u001b[0m \u001b[1;33m=\u001b[0m \u001b[0mself\u001b[0m\u001b[1;33m.\u001b[0m\u001b[0mSTART\u001b[0m \u001b[1;33m+\u001b[0m \u001b[1;33m[\u001b[0m\u001b[0mself\u001b[0m\u001b[1;33m.\u001b[0m\u001b[0mnormalize\u001b[0m\u001b[1;33m(\u001b[0m\u001b[0mw\u001b[0m\u001b[1;33m)\u001b[0m \u001b[1;32mfor\u001b[0m \u001b[0mw\u001b[0m \u001b[1;32min\u001b[0m \u001b[0mtokens\u001b[0m\u001b[1;33m]\u001b[0m \u001b[1;33m+\u001b[0m \u001b[0mself\u001b[0m\u001b[1;33m.\u001b[0m\u001b[0mEND\u001b[0m\u001b[1;33m\u001b[0m\u001b[1;33m\u001b[0m\u001b[0m\n\u001b[0m\u001b[0;32m    182\u001b[0m         \u001b[1;32mfor\u001b[0m \u001b[0mi\u001b[0m\u001b[1;33m,\u001b[0m \u001b[0mword\u001b[0m \u001b[1;32min\u001b[0m \u001b[0menumerate\u001b[0m\u001b[1;33m(\u001b[0m\u001b[0mtokens\u001b[0m\u001b[1;33m)\u001b[0m\u001b[1;33m:\u001b[0m\u001b[1;33m\u001b[0m\u001b[1;33m\u001b[0m\u001b[0m\n\u001b[0;32m    183\u001b[0m             tag, conf = (\n",
      "\u001b[1;32m~\\anaconda3\\lib\\site-packages\\nltk\\tag\\perceptron.py\u001b[0m in \u001b[0;36m<listcomp>\u001b[1;34m(.0)\u001b[0m\n\u001b[0;32m    179\u001b[0m         \u001b[0moutput\u001b[0m \u001b[1;33m=\u001b[0m \u001b[1;33m[\u001b[0m\u001b[1;33m]\u001b[0m\u001b[1;33m\u001b[0m\u001b[1;33m\u001b[0m\u001b[0m\n\u001b[0;32m    180\u001b[0m \u001b[1;33m\u001b[0m\u001b[0m\n\u001b[1;32m--> 181\u001b[1;33m         \u001b[0mcontext\u001b[0m \u001b[1;33m=\u001b[0m \u001b[0mself\u001b[0m\u001b[1;33m.\u001b[0m\u001b[0mSTART\u001b[0m \u001b[1;33m+\u001b[0m \u001b[1;33m[\u001b[0m\u001b[0mself\u001b[0m\u001b[1;33m.\u001b[0m\u001b[0mnormalize\u001b[0m\u001b[1;33m(\u001b[0m\u001b[0mw\u001b[0m\u001b[1;33m)\u001b[0m \u001b[1;32mfor\u001b[0m \u001b[0mw\u001b[0m \u001b[1;32min\u001b[0m \u001b[0mtokens\u001b[0m\u001b[1;33m]\u001b[0m \u001b[1;33m+\u001b[0m \u001b[0mself\u001b[0m\u001b[1;33m.\u001b[0m\u001b[0mEND\u001b[0m\u001b[1;33m\u001b[0m\u001b[1;33m\u001b[0m\u001b[0m\n\u001b[0m\u001b[0;32m    182\u001b[0m         \u001b[1;32mfor\u001b[0m \u001b[0mi\u001b[0m\u001b[1;33m,\u001b[0m \u001b[0mword\u001b[0m \u001b[1;32min\u001b[0m \u001b[0menumerate\u001b[0m\u001b[1;33m(\u001b[0m\u001b[0mtokens\u001b[0m\u001b[1;33m)\u001b[0m\u001b[1;33m:\u001b[0m\u001b[1;33m\u001b[0m\u001b[1;33m\u001b[0m\u001b[0m\n\u001b[0;32m    183\u001b[0m             tag, conf = (\n",
      "\u001b[1;32m~\\anaconda3\\lib\\site-packages\\nltk\\tag\\perceptron.py\u001b[0m in \u001b[0;36mnormalize\u001b[1;34m(self, word)\u001b[0m\n\u001b[0;32m    276\u001b[0m         \u001b[1;32mif\u001b[0m \u001b[1;34m\"-\"\u001b[0m \u001b[1;32min\u001b[0m \u001b[0mword\u001b[0m \u001b[1;32mand\u001b[0m \u001b[0mword\u001b[0m\u001b[1;33m[\u001b[0m\u001b[1;36m0\u001b[0m\u001b[1;33m]\u001b[0m \u001b[1;33m!=\u001b[0m \u001b[1;34m\"-\"\u001b[0m\u001b[1;33m:\u001b[0m\u001b[1;33m\u001b[0m\u001b[1;33m\u001b[0m\u001b[0m\n\u001b[0;32m    277\u001b[0m             \u001b[1;32mreturn\u001b[0m \u001b[1;34m\"!HYPHEN\"\u001b[0m\u001b[1;33m\u001b[0m\u001b[1;33m\u001b[0m\u001b[0m\n\u001b[1;32m--> 278\u001b[1;33m         \u001b[1;32melif\u001b[0m \u001b[0mword\u001b[0m\u001b[1;33m.\u001b[0m\u001b[0misdigit\u001b[0m\u001b[1;33m(\u001b[0m\u001b[1;33m)\u001b[0m \u001b[1;32mand\u001b[0m \u001b[0mlen\u001b[0m\u001b[1;33m(\u001b[0m\u001b[0mword\u001b[0m\u001b[1;33m)\u001b[0m \u001b[1;33m==\u001b[0m \u001b[1;36m4\u001b[0m\u001b[1;33m:\u001b[0m\u001b[1;33m\u001b[0m\u001b[1;33m\u001b[0m\u001b[0m\n\u001b[0m\u001b[0;32m    279\u001b[0m             \u001b[1;32mreturn\u001b[0m \u001b[1;34m\"!YEAR\"\u001b[0m\u001b[1;33m\u001b[0m\u001b[1;33m\u001b[0m\u001b[0m\n\u001b[0;32m    280\u001b[0m         \u001b[1;32melif\u001b[0m \u001b[0mword\u001b[0m\u001b[1;33m[\u001b[0m\u001b[1;36m0\u001b[0m\u001b[1;33m]\u001b[0m\u001b[1;33m.\u001b[0m\u001b[0misdigit\u001b[0m\u001b[1;33m(\u001b[0m\u001b[1;33m)\u001b[0m\u001b[1;33m:\u001b[0m\u001b[1;33m\u001b[0m\u001b[1;33m\u001b[0m\u001b[0m\n",
      "\u001b[1;31mAttributeError\u001b[0m: 'list' object has no attribute 'isdigit'"
     ]
    }
   ],
   "source": [
    "if __name__ == '__main__':\n",
    "    # 1~200번게시글 까지 크롤링\n",
    "    get_titles(1, 10)\n",
    "    # 단어 30개까지 wordcloud로 출력\n",
    "    make_wordcloud(10)"
   ]
  },
  {
   "cell_type": "code",
   "execution_count": null,
   "metadata": {},
   "outputs": [],
   "source": []
  }
 ]
}