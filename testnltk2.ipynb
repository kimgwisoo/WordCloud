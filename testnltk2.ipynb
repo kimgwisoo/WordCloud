{
 "metadata": {
  "language_info": {
   "codemirror_mode": {
    "name": "ipython",
    "version": 3
   },
   "file_extension": ".py",
   "mimetype": "text/x-python",
   "name": "python",
   "nbconvert_exporter": "python",
   "pygments_lexer": "ipython3",
   "version": "3.7.6-final"
  },
  "orig_nbformat": 2,
  "kernelspec": {
   "name": "python3",
   "display_name": "Python 3",
   "language": "python"
  }
 },
 "nbformat": 4,
 "nbformat_minor": 2,
 "cells": [
  {
   "cell_type": "code",
   "execution_count": 8,
   "metadata": {},
   "outputs": [],
   "source": [
    "from bs4 import BeautifulSoup\n",
    "import requests\n",
    "import nltk\n",
    "from nltk.tokenize import sent_tokenize\n",
    "from nltk.tokenize import word_tokenize\n",
    "from nltk.tokenize import RegexpTokenizer\n",
    "from collections import Counter\n",
    "from wordcloud import WordCloud\n",
    "import matplotlib.pyplot as plt"
   ]
  },
  {
   "cell_type": "code",
   "execution_count": 9,
   "metadata": {},
   "outputs": [],
   "source": [
    "search_word = 'samsung'\n",
    "title_list = []"
   ]
  },
  {
   "cell_type": "code",
   "execution_count": 10,
   "metadata": {},
   "outputs": [],
   "source": [
    "def get_titles(start_num, end_num):\n",
    "    # start_num ~ end_num까지 크롤링\n",
    "    while 1:\n",
    "        if start_num > end_num:\n",
    "            break\n",
    "        print(start_num)\n",
    "        url = 'https://search.naver.com/search.naver?where=news&sm=tab_jum&query={}&start={}'.format(\n",
    "            search_word, start_num)\n",
    "        req = requests.get(url)\n",
    "        # 정상적인 request 확인\n",
    "        if req.ok:\n",
    "            html = req.text\n",
    "            soup = BeautifulSoup(html, 'html.parser')\n",
    "\n",
    "            # 뉴스제목 뽑아오기\n",
    "            titles = soup.select(\"ul > li > .news_wrap.api_ani_send > div > a\")\n",
    "            #print(titles)\n",
    "\n",
    "            # list에 넣어준다\n",
    "            for title in titles:\n",
    "                title_list.append(title['title'])\n",
    "        start_num += 10\n",
    "    print(title_list)"
   ]
  },
  {
   "cell_type": "code",
   "execution_count": 11,
   "metadata": {},
   "outputs": [],
   "source": [
    "def make_wordcloud(word_count):\n",
    "    em = nltk.corpus.raw()\n",
    "    sentences_tag = []\n",
    "    \n",
    "    sent_tokenize(em)\n",
    "    word_tokenize(em)\n",
    "\n",
    "    for sentence in title_list:\n",
    "        retokenize = RegexpTokenizer(\"[\\w]+\")\n",
    "        retokenize.tokenize(em)"
   ]
  }
 ]
}